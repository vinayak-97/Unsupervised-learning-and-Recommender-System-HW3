{
 "cells": [
  {
   "cell_type": "markdown",
   "metadata": {},
   "source": [
    "# Task 1 Algorithmic Analysis K-Means Clustering with Real World Dataset"
   ]
  },
  {
   "cell_type": "markdown",
   "metadata": {},
   "source": [
    "# Name: Vinayak Ramachandra Bhosale"
   ]
  },
  {
   "cell_type": "markdown",
   "metadata": {},
   "source": [
    "# Question 1"
   ]
  },
  {
   "cell_type": "code",
   "execution_count": 1,
   "metadata": {
    "id": "xnMePDuJm2ax"
   },
   "outputs": [],
   "source": [
    "import pandas as pd\n",
    "\n",
    "data = pd.read_csv(\"data.csv\",header=None).values\n",
    "label = pd.read_csv(\"label.csv\",header=None).values.reshape(-1)"
   ]
  },
  {
   "cell_type": "code",
   "execution_count": 2,
   "metadata": {},
   "outputs": [
    {
     "data": {
      "text/plain": [
       "array([[0, 0, 0, ..., 0, 0, 0],\n",
       "       [0, 0, 0, ..., 0, 0, 0],\n",
       "       [0, 0, 0, ..., 0, 0, 0],\n",
       "       ...,\n",
       "       [0, 0, 0, ..., 0, 0, 0],\n",
       "       [0, 0, 0, ..., 0, 0, 0],\n",
       "       [0, 0, 0, ..., 0, 0, 0]], dtype=int64)"
      ]
     },
     "execution_count": 2,
     "metadata": {},
     "output_type": "execute_result"
    }
   ],
   "source": [
    "data"
   ]
  },
  {
   "cell_type": "code",
   "execution_count": 3,
   "metadata": {},
   "outputs": [
    {
     "data": {
      "text/plain": [
       "array([7, 2, 1, ..., 4, 5, 6], dtype=int64)"
      ]
     },
     "execution_count": 3,
     "metadata": {},
     "output_type": "execute_result"
    }
   ],
   "source": [
    "label"
   ]
  },
  {
   "cell_type": "code",
   "execution_count": 4,
   "metadata": {},
   "outputs": [],
   "source": [
    "import numpy as np\n",
    "import random"
   ]
  },
  {
   "cell_type": "code",
   "execution_count": 5,
   "metadata": {},
   "outputs": [],
   "source": [
    "def euclidean_distance(a, b):\n",
    "    return np.linalg.norm(a - b)"
   ]
  },
  {
   "cell_type": "code",
   "execution_count": 6,
   "metadata": {},
   "outputs": [],
   "source": [
    "def cosine_similarity(a, b):\n",
    "    return 1 - np.dot(a, b) / (np.linalg.norm(a) * np.linalg.norm(b))"
   ]
  },
  {
   "cell_type": "code",
   "execution_count": 7,
   "metadata": {},
   "outputs": [],
   "source": [
    "def jaccard_similarity(a, b):\n",
    "    return 1 - np.sum(np.minimum(a, b)) / np.sum(np.maximum(a, b))"
   ]
  },
  {
   "cell_type": "code",
   "execution_count": 8,
   "metadata": {},
   "outputs": [],
   "source": [
    "def k_means(data, k, similarity_func, max_iterations=500):\n",
    "    centroids = random.sample(list(data), k)\n",
    "    iterations = 0\n",
    "    old_sse = 0\n",
    "    while True:\n",
    "        # Assign each data point to its closest centroid\n",
    "        clusters = [[] for i in range(k)]\n",
    "        for point in data:\n",
    "            distances = [similarity_func(point, centroid) for centroid in centroids]\n",
    "            cluster_index = np.argmin(distances)\n",
    "            clusters[cluster_index].append(point)\n",
    "        \n",
    "        # Calculate the new centroid for each cluster\n",
    "        new_centroids = []\n",
    "        sse = 0\n",
    "        for i in range(k):\n",
    "            cluster = clusters[i]\n",
    "            if len(cluster) == 0:\n",
    "                new_centroids.append(centroids[i])\n",
    "                continue\n",
    "            centroid = np.mean(cluster, axis=0)\n",
    "            new_centroids.append(centroid)\n",
    "            sse += np.sum([similarity_func(point, centroid) for point in cluster])\n",
    "        \n",
    "        # Check for convergence\n",
    "        if np.allclose(new_centroids, centroids) or sse >= old_sse or iterations >= max_iterations:\n",
    "            break\n",
    "        \n",
    "        # Update the centroids and SSE\n",
    "        centroids = new_centroids\n",
    "        old_sse = sse\n",
    "        iterations += 1\n",
    "    \n",
    "    return clusters, centroids, sse"
   ]
  },
  {
   "cell_type": "code",
   "execution_count": 9,
   "metadata": {},
   "outputs": [
    {
     "data": {
      "text/plain": [
       "10"
      ]
     },
     "execution_count": 9,
     "metadata": {},
     "output_type": "execute_result"
    }
   ],
   "source": [
    "k = len(np.unique(label))\n",
    "k"
   ]
  },
  {
   "cell_type": "code",
   "execution_count": 10,
   "metadata": {},
   "outputs": [],
   "source": [
    "clusters_euclidean, centroids_euclidean, sse_euclidean = k_means(data, k, euclidean_distance)\n",
    "\n",
    "clusters_cosine, centroids_cosine, sse_cosine = k_means(data, k, cosine_similarity)\n",
    "\n",
    "clusters_jaccard, centroids_jaccard, sse_jaccard = k_means(data, k, jaccard_similarity)"
   ]
  },
  {
   "cell_type": "code",
   "execution_count": 11,
   "metadata": {},
   "outputs": [
    {
     "name": "stdout",
     "output_type": "stream",
     "text": [
      "SSE with Euclidean distance:  16571095.936437659\n",
      "SSE with Cosine similarity:  2828.834382198499\n",
      "SSE with Jaccard similarity:  6411.21656112987\n"
     ]
    }
   ],
   "source": [
    "print(\"SSE with Euclidean distance: \", sse_euclidean)\n",
    "print(\"SSE with Cosine similarity: \", sse_cosine)\n",
    "print(\"SSE with Jaccard similarity: \", sse_jaccard)"
   ]
  },
  {
   "cell_type": "markdown",
   "metadata": {},
   "source": [
    "# Question 2"
   ]
  },
  {
   "cell_type": "code",
   "execution_count": 12,
   "metadata": {},
   "outputs": [],
   "source": [
    "import numpy as np\n",
    "\n",
    "class KMeans:\n",
    "    def __init__(self, k=10, max_iter=100, distance_metric=euclidean_distance):\n",
    "        self.k = k\n",
    "        self.max_iter = max_iter\n",
    "        self.distance_metric = distance_metric\n",
    "    \n",
    "    def fit(self, X):\n",
    "        self.centroids = X[np.random.choice(X.shape[0], self.k, replace=False)]\n",
    "        for i in range(self.max_iter):\n",
    "            clusters = [[] for _ in range(self.k)]\n",
    "            for x in X:\n",
    "                distances = [self.distance_metric(x, c) for c in self.centroids]\n",
    "                cluster = np.argmin(distances)\n",
    "                clusters[cluster].append(x)\n",
    "            new_centroids = []\n",
    "            for cluster in clusters:\n",
    "                if len(cluster) == 0:\n",
    "                    new_centroids.append(np.zeros(X.shape[1]))\n",
    "                else:\n",
    "                    new_centroids.append(np.mean(cluster, axis=0))\n",
    "            if np.allclose(self.centroids, new_centroids):\n",
    "                break\n",
    "            self.centroids = new_centroids\n",
    "    \n",
    "    def predict(self, X):\n",
    "        distances = np.array([np.array([self.distance_metric(x, c) for c in self.centroids]) for x in X])\n",
    "        return np.argmin(distances, axis=1)\n"
   ]
  },
  {
   "cell_type": "code",
   "execution_count": 20,
   "metadata": {},
   "outputs": [],
   "source": [
    "km_eu = KMeans(k=10, max_iter=100, distance_metric=euclidean_distance)\n",
    "km_eu.fit(data)\n",
    "eu_predictions = km_eu.predict(data)"
   ]
  },
  {
   "cell_type": "code",
   "execution_count": 14,
   "metadata": {},
   "outputs": [],
   "source": [
    "km_cs = KMeans(k=10, max_iter=100, distance_metric=cosine_similarity)\n",
    "km_cs.fit(data)\n",
    "cs_predictions = km_cs.predict(data)"
   ]
  },
  {
   "cell_type": "code",
   "execution_count": 15,
   "metadata": {},
   "outputs": [],
   "source": [
    "km_js = KMeans(k=10, max_iter=100, distance_metric=jaccard_similarity)\n",
    "km_js.fit(data)\n",
    "js_predictions = km_js.predict(data)"
   ]
  },
  {
   "cell_type": "code",
   "execution_count": 16,
   "metadata": {},
   "outputs": [],
   "source": [
    "def Accuracy(predicted, actual):\n",
    "    count = 0\n",
    "    total = len(label)\n",
    "    for i in range(total):\n",
    "        if predicted[i] == actual[i]:\n",
    "            count += 1\n",
    "    return (count/total)*100"
   ]
  },
  {
   "cell_type": "code",
   "execution_count": 21,
   "metadata": {},
   "outputs": [
    {
     "name": "stdout",
     "output_type": "stream",
     "text": [
      "Accuracy of Euclidean Distance kmeans: 15.989999999999998\n",
      "Accuracy of cosine similarity kmeans: 11.73\n",
      "Accuracy of jaccard similarity kmeans: 7.55\n"
     ]
    }
   ],
   "source": [
    "print(\"Accuracy of Euclidean Distance kmeans:\",Accuracy(eu_predictions,label))\n",
    "print(\"Accuracy of cosine similarity kmeans:\",Accuracy(cs_predictions,label))\n",
    "print(\"Accuracy of jaccard similarity kmeans:\",Accuracy(js_predictions,label))"
   ]
  },
  {
   "cell_type": "markdown",
   "metadata": {
    "id": "9dtu_CHhm3WZ"
   },
   "source": [
    "# Question 3"
   ]
  },
  {
   "cell_type": "code",
   "execution_count": 49,
   "metadata": {
    "id": "BEoqumid6KeK"
   },
   "outputs": [],
   "source": [
    "import pandas as pd\n",
    "import numpy as np\n",
    "import random\n",
    "\n",
    "data = pd.read_csv(\"data.csv\",header=None).values\n",
    "label = pd.read_csv(\"label.csv\",header=None).values.reshape(-1)\n",
    "\n",
    "\n",
    "def euclidean_distance(a, b):\n",
    "    return np.linalg.norm(a - b)\n",
    "\n",
    "def cosine_similarity(a, b):\n",
    "    return 1 - np.dot(a, b) / (np.linalg.norm(a) * np.linalg.norm(b))\n",
    "\n",
    "def jaccard_similarity(a, b):\n",
    "    return 1 - np.sum(np.minimum(a, b)) / np.sum(np.maximum(a, b))\n",
    "\n",
    "k = len(np.unique(label))"
   ]
  },
  {
   "cell_type": "code",
   "execution_count": 8,
   "metadata": {
    "colab": {
     "base_uri": "https://localhost:8080/"
    },
    "id": "UPFJMG1C6wrI",
    "outputId": "9b1edbdd-a97c-4682-ad12-b1af2146feb7"
   },
   "outputs": [
    {
     "name": "stdout",
     "output_type": "stream",
     "text": [
      "Euclidean-K-means converged in 10 iterations\n",
      "Time taken by Euclidean-K-means to converge is 36.97478365898132\n"
     ]
    }
   ],
   "source": [
    "import numpy as np\n",
    "import time\n",
    "\n",
    "class KMeans:\n",
    "    def __init__(self, k=10, max_iter=100, distance_metric=euclidean_distance, seed=42):\n",
    "        self.k = k\n",
    "        self.max_iter = max_iter\n",
    "        self.distance_metric = distance_metric\n",
    "        self.seed = seed\n",
    "    \n",
    "    def fit(self, X):\n",
    "        np.random.seed(self.seed)\n",
    "        self.centroids = X[np.random.choice(X.shape[0], self.k, replace=False)]\n",
    "        prev_sse = np.inf\n",
    "        for i in range(self.max_iter):\n",
    "            clusters = [[] for _ in range(self.k)]\n",
    "            for x in X:\n",
    "                distances = [self.distance_metric(x, c) for c in self.centroids]\n",
    "                cluster = np.argmin(distances)\n",
    "                clusters[cluster].append(x)\n",
    "            new_centroids = []\n",
    "            for cluster in clusters:\n",
    "                if len(cluster) == 0:\n",
    "                    new_centroids.append(np.zeros(X.shape[1]))\n",
    "                else:\n",
    "                    new_centroids.append(np.mean(cluster, axis=0))\n",
    "            sse = np.sum([np.sum((cluster - centroid)**2) for cluster, centroid in zip(clusters, new_centroids)])\n",
    "            if np.allclose(self.centroids, new_centroids) or sse > prev_sse:\n",
    "                break\n",
    "            self.centroids = new_centroids\n",
    "            prev_sse = sse\n",
    "    \n",
    "    def predict(self, X):\n",
    "        distances = np.array([np.array([self.distance_metric(x, c) for c in self.centroids]) for x in X])\n",
    "        return np.argmin(distances, axis=1)\n",
    "\n",
    "\n",
    "t1 = time.time()\n",
    "kmeans_euclidean = KMeans(k=10, max_iter=500, distance_metric=euclidean_distance)\n",
    "kmeans_euclidean.fit(data)\n",
    "t2 = time.time()\n",
    "print(\"Euclidean-K-means converged in {} iterations\".format(len(kmeans_euclidean.centroids)))\n",
    "print(\"Time taken by Euclidean-K-means to converge is {}\".format(t2-t1))\n"
   ]
  },
  {
   "cell_type": "code",
   "execution_count": 9,
   "metadata": {
    "colab": {
     "base_uri": "https://localhost:8080/"
    },
    "id": "ckH6iqXR76Um",
    "outputId": "94a2c443-a44b-40cf-967e-cc8d52f4cd92"
   },
   "outputs": [
    {
     "name": "stdout",
     "output_type": "stream",
     "text": [
      "Cosine-K-means converged in 10 iterations\n",
      "Time taken by Cosine-K-means to converge is 63.50847101211548\n"
     ]
    }
   ],
   "source": [
    "t3 = time.time()\n",
    "kmeans_cosine = KMeans(k=10, max_iter=500, distance_metric=cosine_similarity)\n",
    "kmeans_cosine.fit(data)\n",
    "t4 = time.time()\n",
    "print(\"Cosine-K-means converged in {} iterations\".format(len(kmeans_cosine.centroids)))\n",
    "print(\"Time taken by Cosine-K-means to converge is {}\".format(t4-t3))\n",
    "\n",
    "\n"
   ]
  },
  {
   "cell_type": "code",
   "execution_count": 10,
   "metadata": {
    "colab": {
     "base_uri": "https://localhost:8080/"
    },
    "id": "4r_aul_278Lb",
    "outputId": "ad028175-147a-48a3-fbf0-c966dd942605"
   },
   "outputs": [
    {
     "name": "stdout",
     "output_type": "stream",
     "text": [
      "Jaccard-K-means converged in 10 iterations\n",
      "Time taken by Jaccard-K-means to converge is 88.04422998428345\n"
     ]
    }
   ],
   "source": [
    "t5 = time.time()\n",
    "kmeans_jaccard = KMeans(k=10, max_iter=500, distance_metric=jaccard_similarity)\n",
    "kmeans_jaccard.fit(data)\n",
    "t6 = time.time()\n",
    "print(\"Jaccard-K-means converged in {} iterations\".format(len(kmeans_jaccard.centroids)))\n",
    "print(\"Time taken by Jaccard-K-means to converge is {}\".format(t6-t5))"
   ]
  },
  {
   "cell_type": "code",
   "execution_count": null,
   "metadata": {
    "id": "AWWsaIV28UWB"
   },
   "outputs": [],
   "source": []
  },
  {
   "cell_type": "markdown",
   "metadata": {
    "id": "4GS-T0pHEZTB"
   },
   "source": [
    "# Question 4\n",
    "\n",
    "when there is no change in centroid position"
   ]
  },
  {
   "cell_type": "code",
   "execution_count": 19,
   "metadata": {
    "id": "2VwLFevpEgcB"
   },
   "outputs": [],
   "source": [
    "import numpy as np\n",
    "from scipy.spatial.distance import cdist\n",
    "\n",
    "# Define KMeans class\n",
    "class KMeans:\n",
    "    def __init__(self, k=10, max_iter=100, distance_metric=euclidean_distance, seed=42):\n",
    "        self.k = k\n",
    "        self.max_iter = max_iter\n",
    "        self.distance_metric = distance_metric\n",
    "        self.seed = seed\n",
    "\n",
    "    def fit(self, X):\n",
    "        np.random.seed(self.seed)\n",
    "        self.centroids = X[np.random.choice(X.shape[0], self.k, replace=False)]\n",
    "        prev_centroids = None\n",
    "        for i in range(self.max_iter):\n",
    "            clusters = [[] for _ in range(self.k)]\n",
    "            for x in X:\n",
    "                distances = cdist(x.reshape(1, -1), self.centroids, metric=self.distance_metric)\n",
    "                cluster = np.argmin(distances)\n",
    "                clusters[cluster].append(x)\n",
    "            prev_centroids = self.centroids.copy()\n",
    "            self.centroids = [np.mean(cluster, axis=0) for cluster in clusters]\n",
    "            if np.allclose(prev_centroids, self.centroids):\n",
    "                break\n",
    "\n",
    "    def predict(self, X):\n",
    "        distances = cdist(X, self.centroids, metric=self.distance_metric)\n",
    "        return np.argmin(distances, axis=1)\n",
    "\n",
    "# Generate sample data\n",
    "X, y = data,label\n",
    "\n",
    "# Initialize KMeans models\n",
    "euclidean_kmeans = KMeans(k=10, max_iter=100, distance_metric=euclidean_distance, seed=42)\n",
    "cosine_kmeans = KMeans(k=10, max_iter=100, distance_metric=cosine_similarity, seed=42)\n",
    "jaccard_kmeans = KMeans(k=10, max_iter=100, distance_metric=jaccard_similarity, seed=42)"
   ]
  },
  {
   "cell_type": "code",
   "execution_count": 20,
   "metadata": {
    "colab": {
     "base_uri": "https://localhost:8080/"
    },
    "id": "TwZRZzRPHukJ",
    "outputId": "11647eca-17fb-4d96-fdab-fd2a6c19446b"
   },
   "outputs": [
    {
     "name": "stdout",
     "output_type": "stream",
     "text": [
      "Euclidean-K-means SSE: 25414767689.961178\n"
     ]
    }
   ],
   "source": [
    "euclidean_kmeans.fit(X)\n",
    "euclidean_sse = np.sum(np.min(cdist(X, euclidean_kmeans.centroids, 'euclidean'), axis=1)**2)\n",
    "print(\"Euclidean-K-means SSE:\", euclidean_sse)"
   ]
  },
  {
   "cell_type": "code",
   "execution_count": 21,
   "metadata": {
    "colab": {
     "base_uri": "https://localhost:8080/"
    },
    "id": "b0clSXrOKWTL",
    "outputId": "6500e66c-8027-42b4-9ccd-606d461c7920"
   },
   "outputs": [
    {
     "name": "stdout",
     "output_type": "stream",
     "text": [
      "Cosine-K-means SSE: 686.4355725684936\n"
     ]
    }
   ],
   "source": [
    "cosine_kmeans.fit(X)\n",
    "cosine_sse = np.sum(np.min(cdist(X, cosine_kmeans.centroids, 'cosine'), axis=1)**2)\n",
    "print(\"Cosine-K-means SSE:\", cosine_sse)"
   ]
  },
  {
   "cell_type": "code",
   "execution_count": 22,
   "metadata": {
    "colab": {
     "base_uri": "https://localhost:8080/"
    },
    "id": "QPY63ZMkKWEg",
    "outputId": "d4a45e18-09de-44c0-8d48-7b277d489989"
   },
   "outputs": [
    {
     "name": "stdout",
     "output_type": "stream",
     "text": [
      "Jaccard-K-means SSE: 9999.83773073805\n"
     ]
    }
   ],
   "source": [
    "jaccard_kmeans.fit(X)\n",
    "jaccard_sse = np.sum(np.min(cdist(X, jaccard_kmeans.centroids, 'jaccard'), axis=1)**2)\n",
    "print(\"Jaccard-K-means SSE:\", jaccard_sse)"
   ]
  },
  {
   "cell_type": "markdown",
   "metadata": {
    "id": "eHgbPEL2E_vA"
   },
   "source": [
    "when the SSE value increases in the next iteration"
   ]
  },
  {
   "cell_type": "code",
   "execution_count": 33,
   "metadata": {
    "id": "b0YLkx07MBAP"
   },
   "outputs": [],
   "source": [
    "class KMeans:\n",
    "    def __init__(self, k=10, max_iter=100, distance_metric=euclidean_distance, seed=42):\n",
    "        self.k = k\n",
    "        self.max_iter = max_iter\n",
    "        self.distance_metric = distance_metric\n",
    "        self.seed = seed\n",
    "\n",
    "    def fit(self, X):\n",
    "        np.random.seed(self.seed)\n",
    "        self.centroids = X[np.random.choice(X.shape[0], self.k, replace=False)]\n",
    "        prev_centroids = None\n",
    "        prev_sse = float('inf')\n",
    "        for i in range(self.max_iter):\n",
    "            clusters = [[] for _ in range(self.k)]\n",
    "            for x in X:\n",
    "                distances = cdist(x.reshape(1, -1), self.centroids, metric=self.distance_metric)\n",
    "                cluster = np.argmin(distances)\n",
    "                clusters[cluster].append(x)\n",
    "            prev_centroids = self.centroids.copy()\n",
    "            self.centroids = [np.mean(cluster, axis=0) for cluster in clusters]\n",
    "            sse = np.sum([np.sum(cdist(cluster, centroid.reshape(1,-1), metric=self.distance_metric)**2) for cluster, centroid in zip(clusters, self.centroids)])\n",
    "            if sse > prev_sse:\n",
    "                break\n",
    "            prev_sse = sse\n",
    "            if np.allclose(prev_centroids, self.centroids):\n",
    "                break\n",
    "\n",
    "    def predict(self, X):\n",
    "        distances = cdist(X, self.centroids, metric=self.distance_metric)\n",
    "        return np.argmin(distances, axis=1)\n",
    "\n",
    "X, y = data,label\n",
    "\n",
    "# Initialize KMeans models\n",
    "euclidean_kmeans = KMeans(k=10, max_iter=100, distance_metric=euclidean_distance, seed=42)\n",
    "cosine_kmeans = KMeans(k=10, max_iter=100, distance_metric=cosine_similarity, seed=42)\n",
    "jaccard_kmeans = KMeans(k=10, max_iter=100, distance_metric=jaccard_similarity, seed=42)"
   ]
  },
  {
   "cell_type": "code",
   "execution_count": 34,
   "metadata": {
    "colab": {
     "base_uri": "https://localhost:8080/"
    },
    "id": "cmekI7byO4z_",
    "outputId": "61ea8723-16dd-45b0-8f19-181cc1d61012"
   },
   "outputs": [
    {
     "name": "stdout",
     "output_type": "stream",
     "text": [
      "Euclidean-K-means SSE: 25414767689.961178\n"
     ]
    }
   ],
   "source": [
    "euclidean_kmeans.fit(X)\n",
    "euclidean_sse = np.sum(np.min(cdist(X, euclidean_kmeans.centroids, 'euclidean'), axis=1)**2)\n",
    "print(\"Euclidean-K-means SSE:\", euclidean_sse)"
   ]
  },
  {
   "cell_type": "code",
   "execution_count": 35,
   "metadata": {
    "colab": {
     "base_uri": "https://localhost:8080/"
    },
    "id": "hwAxhVzKb5Jb",
    "outputId": "28bfd05d-97b1-4262-d7c6-c9d829e1db6d"
   },
   "outputs": [
    {
     "name": "stdout",
     "output_type": "stream",
     "text": [
      "Cosine-K-means SSE: 686.229294287177\n"
     ]
    }
   ],
   "source": [
    "cosine_kmeans.fit(X)\n",
    "cosine_sse = np.sum(np.min(cdist(X, cosine_kmeans.centroids, 'cosine'), axis=1)**2)\n",
    "print(\"Cosine-K-means SSE:\", cosine_sse)"
   ]
  },
  {
   "cell_type": "code",
   "execution_count": 36,
   "metadata": {
    "colab": {
     "base_uri": "https://localhost:8080/"
    },
    "id": "OkKxKqflb7cJ",
    "outputId": "5ddc1824-7a70-4401-c0a5-2cb1c0162744"
   },
   "outputs": [
    {
     "name": "stdout",
     "output_type": "stream",
     "text": [
      "Jaccard-K-means SSE: 9999.907741263536\n"
     ]
    }
   ],
   "source": [
    "jaccard_kmeans.fit(X)\n",
    "jaccard_sse = np.sum(np.min(cdist(X, jaccard_kmeans.centroids, 'jaccard'), axis=1)**2)\n",
    "print(\"Jaccard-K-means SSE:\", jaccard_sse)"
   ]
  },
  {
   "cell_type": "code",
   "execution_count": 51,
   "metadata": {
    "colab": {
     "base_uri": "https://localhost:8080/"
    },
    "id": "5dSrFfmmb-pc",
    "outputId": "efb3545b-5ab4-43ff-b55b-aa93b91e09e9"
   },
   "outputs": [
    {
     "name": "stdout",
     "output_type": "stream",
     "text": [
      "Euclidean-K-means SSE: 25414767689.9611\n",
      "Cosine-K-means SSE: 686.435572568491\n",
      "Jaccard-K-means SSE: 3660.389493716567\n"
     ]
    }
   ],
   "source": [
    "import numpy as np\n",
    "from scipy.spatial.distance import cdist\n",
    "\n",
    "\n",
    "\n",
    "# Define KMeans class\n",
    "class KMeans:\n",
    "    def __init__(self, k=10, max_iter=100, distance_metric=euclidean_distance, seed=42):\n",
    "        self.k = k\n",
    "        self.max_iter = max_iter\n",
    "        self.distance_metric = distance_metric\n",
    "        self.seed = seed\n",
    "\n",
    "    def fit(self, X):\n",
    "        np.random.seed(self.seed)\n",
    "        self.centroids = X[np.random.choice(X.shape[0], self.k, replace=False)]\n",
    "        prev_centroids = None\n",
    "        for i in range(self.max_iter):\n",
    "            clusters = [[] for _ in range(self.k)]\n",
    "            for x in X:\n",
    "                distances = cdist(x.reshape(1, -1), self.centroids, metric=self.distance_metric)\n",
    "                cluster = np.argmin(distances)\n",
    "                clusters[cluster].append(x)\n",
    "            prev_centroids = self.centroids.copy()\n",
    "            self.centroids = [np.mean(cluster, axis=0) for cluster in clusters]\n",
    "            if np.allclose(prev_centroids, self.centroids):\n",
    "                break\n",
    "            elif i == self.max_iter-1:\n",
    "                print(f\"KMeans did not converge in {self.max_iter} iterations\")\n",
    "                break\n",
    "\n",
    "    def predict(self, X):\n",
    "        distances = cdist(X, self.centroids, metric=self.distance_metric)\n",
    "        return np.argmin(distances, axis=1)\n",
    "\n",
    "# Generate sample data\n",
    "X, y = data,label\n",
    "\n",
    "# Initialize KMeans models\n",
    "euclidean_kmeans = KMeans(k=10, max_iter=100, distance_metric=euclidean_distance, seed=42)\n",
    "cosine_kmeans = KMeans(k=10, max_iter=100, distance_metric=cosine_similarity, seed=42)\n",
    "jaccard_kmeans = KMeans(k=10, max_iter=100, distance_metric=jaccard_similarity, seed=42)\n",
    "\n",
    "# Fit the models on the data\n",
    "euclidean_kmeans.fit(X)\n",
    "cosine_kmeans.fit(X)\n",
    "jaccard_kmeans.fit(X)\n",
    "\n",
    "# Calculate the SSEs for each model\n",
    "euclidean_sse = sum(np.min(cdist(X, euclidean_kmeans.centroids, euclidean_distance), axis=1)**2)\n",
    "cosine_sse = sum(np.min(cdist(X, cosine_kmeans.centroids, cosine_similarity), axis=1)**2)\n",
    "jaccard_sse = sum(np.min(cdist(X, jaccard_kmeans.centroids, jaccard_similarity), axis=1)**2)\n",
    "\n",
    "# Print the SSEs for each model\n",
    "print(\"Euclidean-K-means SSE:\", euclidean_sse)\n",
    "print(\"Cosine-K-means SSE:\", cosine_sse)\n",
    "print(\"Jaccard-K-means SSE:\", jaccard_sse)"
   ]
  },
  {
   "cell_type": "code",
   "execution_count": null,
   "metadata": {
    "id": "i8Q6zLcOjVsS"
   },
   "outputs": [],
   "source": []
  }
 ],
 "metadata": {
  "colab": {
   "provenance": []
  },
  "kernelspec": {
   "display_name": "Python 3",
   "language": "python",
   "name": "python3"
  },
  "language_info": {
   "codemirror_mode": {
    "name": "ipython",
    "version": 3
   },
   "file_extension": ".py",
   "mimetype": "text/x-python",
   "name": "python",
   "nbconvert_exporter": "python",
   "pygments_lexer": "ipython3",
   "version": "3.7.4"
  }
 },
 "nbformat": 4,
 "nbformat_minor": 1
}
